{
 "cells": [
  {
   "cell_type": "markdown",
   "metadata": {},
   "source": [
    "# Лабораторная работа №5\n",
    "## Задание 1\n",
    "### Вычисление интеграла с помощью рекурентной формулы трапеций\n",
    "*Вычисления производятся с использованием формулы площади трапеции\n",
    "$T(0)=\\frac{h(f(\\alpha)+f(\\beta))}{2}$, где $h=\\beta-\\alpha$\n",
    "$T(N)=\\frac{T(N-1)}{2}+h\\sum_{k=1}^M f(x_{2k-1})$, $N=1,2....$, где $h=\\frac{\\beta-\\alpha}{2^N}$*\n",
    "\n",
    "*Точки $x_k= \\alpha +kh $ делят отрезок $[\\alpha;\\beta]$ на $2^n=2M$ частей*\n",
    "\n",
    "## Задание 2\n",
    "### Решение системы линейных уравнений методом прогонки\n",
    "*Решаем систему линейных уравнений вида $Ax=F$, где матрица А имеет вид*\n",
    "$$A = \\begin{pmatrix} C_1 & B_1 & 0   & 0   & \\cdots & 0 & 0\n",
    "                         \\\\ A_1 & C_2 & B_2 & 0   & \\cdots & 0 & 0\n",
    "                         \\\\ 0 & A_2 & C_3 & B_3 & \\cdots & 0 & 0 \n",
    "                         \\\\ \\cdots & \\cdots & \\cdots & \\cdots & \\cdots & \\cdots & \\cdots \n",
    "                         \\\\ \\cdots & \\cdots & \\cdots & \\cdots & \\cdots & \\cdots & \\cdots \n",
    "                         \\\\ \\cdots & \\cdots & \\cdots & \\cdots & A_{n-1} & C_{n-1} & B_{n-1}\n",
    "                         \\\\ 0 & 0 & 0 & 0 & \\cdots & 0 & C_{n}\n",
    "            \\end{pmatrix}$$\n",
    "            \n",
    "На пером этапе преобразуем матриц А с помощью формул\n",
    "$C'_1=C_1$; $C'_i=C_i-\\frac{A_iB_{i-1}}{C'_{i-1}}$ к виду\n",
    "$$A' = \\begin{pmatrix} C_1' & B_1 & 0   & 0   & \\cdots & 0 & 0\n",
    "                         \\\\ 0 & C_2' & B_2 & 0   & \\cdots & 0 & 0\n",
    "                         \\\\ 0 & 0 & C_3' & B_3 & \\cdots & 0 & 0 \n",
    "                         \\\\ \\cdots & \\cdots & \\cdots & \\cdots & \\cdots & \\cdots & \\cdots \n",
    "                         \\\\ \\cdots & \\cdots & \\cdots & \\cdots & \\cdots & \\cdots & \\cdots \n",
    "                         \\\\ \\cdots & \\cdots & \\cdots & \\cdots & 0 & C'_{n-1} & B_{n-1}\n",
    "                         \\\\ 0 & 0 & 0 & 0 & \\cdots & 0 & C_{n}'\n",
    "            \\end{pmatrix}$$\n",
    "            \n",
    "А матрицу F преобразуем по формулам $F'_1=F_1$; $F'_i=F_i-\\frac{A_iF'_{i-1}}{C'_{i-1}}$, $i=2,3...n$\n",
    "\n",
    "На втором этапе находим решение по формулам $X_n=\\frac{F'_n}{C'_n}$; $X_i=\\frac{F'_i-B_iX_{i+1}}{C'_i}$, где $i=(n-1),(n-2)....1$\n",
    "\n",
    "## Задание 3\n",
    "### Решение системы методом итерации\n",
    "*Решаем систему вида $Ax=B$, где*\n",
    "\n",
    "${\\displaystyle \\mathrm {A} ={\\begin{bmatrix}a_{11}&\\cdots &a_{1n}\\\\\\vdots &\\ddots &\\vdots \\\\a_{n1}&\\cdots &a_{nn}\\end{bmatrix}};\\qquad \\mathrm {X} ={\\begin{bmatrix}x_{1}\\\\\\vdots \\\\x_{n}\\end{bmatrix}};\\qquad \\mathrm {B} ={\\begin{bmatrix}b_{1}\\\\\\vdots \\\\b_{n}\\end{bmatrix}}}$\n",
    "\n",
    "*Обозначим*\n",
    "\n",
    "${\\displaystyle {\\frac {b_{i}}{a_{ii}}}=\\beta _{i};-{\\frac {a_{ij}}{a_{ii}}}=\\alpha _{ij}}, {\\displaystyle i={\\overline {1,n}}}, {\\displaystyle j={\\overline {1,n}}}$\n",
    "\n",
    "${\\displaystyle \\alpha ={\\begin{bmatrix}\\alpha _{11}&\\cdots &\\alpha _{1n}\\\\\\vdots &\\ddots &\\vdots \\\\\\alpha _{n1}&\\cdots &\\alpha _{nn}\\end{bmatrix}};\\qquad \\beta ={\\begin{bmatrix}\\beta _{1}\\\\\\vdots \\\\\\beta _{n}\\end{bmatrix}}}$\n",
    "\n",
    "*За нулевое приближение примем вектор-столбец $\\beta$, тогда решение будем искать по итерационной формуле:*\n",
    "\n",
    "${\\displaystyle {\\begin{bmatrix}x_{1}^{(n)}\\\\\\vdots \\\\x_{n}^{(n)}\\end{bmatrix}}={\\begin{bmatrix}\\beta _{1}\\\\\\vdots \\\\\\beta _{n}\\end{bmatrix}}+{\\begin{bmatrix}\\alpha _{11}&\\cdots &\\alpha _{1n}\\\\\\vdots &\\ddots &\\vdots \\\\\\alpha _{n1}&\\cdots &\\alpha _{nn}\\end{bmatrix}}{\\begin{bmatrix}x_{1}^{(n-1)}\\\\\\vdots \\\\x_{n}^{(n-1)}\\end{bmatrix}}}$\n",
    "\n",
    "Работу выполнил: студент 431 группы Перекалов Александр"
   ]
  },
  {
   "cell_type": "code",
   "execution_count": 1,
   "metadata": {
    "collapsed": false
   },
   "outputs": [
    {
     "name": "stdout",
     "output_type": "stream",
     "text": [
      "2.3696996018659755\n"
     ]
    }
   ],
   "source": [
    "#вычисление интеграла\n",
    "import numpy\n",
    "import matplotlib.pyplot as plt\n",
    "import math\n",
    "a=1;b=3\n",
    "INTEGR=[];N=[]\n",
    "def func1(x,i):\n",
    "    y=math.log(math.log(10+i**2+math.cos(1+math.exp(-x))))\n",
    "    return y\n",
    "def integral(a,b,e,func1,m):#дальше m - номер уравнения\n",
    "    h=b-a\n",
    "    n=0\n",
    "    summ=(h/(2*(func1(a,m)+func1(b,m))))\n",
    "    summ1=0 #добавка к интегралу\n",
    "    while abs((summ-summ1)/summ)>e:\n",
    "        deltha=0\n",
    "        n=n+1\n",
    "        N.append(n)\n",
    "        h=h/2\n",
    "        k=int(2**(n-1))\n",
    "        for i in range(1,k+1):\n",
    "            deltha=deltha+func1(a+(2*i-1)*h,m)\n",
    "        deltha=deltha*h\n",
    "        summ1=summ\n",
    "        summ=(summ/2)+deltha\n",
    "        INTEGR.append(summ)\n",
    "    return summ\n",
    "z=integral(1,3,0.001,func1,4)\n",
    "print(z)\n",
    "plt.plot(N,INTEGR, 'r')\n",
    "plt.xlabel(\"N\")\n",
    "plt.ylabel(\"Integral\")\n",
    "plt.grid(True)\n",
    "plt.show()"
   ]
  },
  {
   "cell_type": "code",
   "execution_count": 2,
   "metadata": {
    "collapsed": false
   },
   "outputs": [
    {
     "name": "stdout",
     "output_type": "stream",
     "text": [
      "0.17317818956819406\n"
     ]
    }
   ],
   "source": [
    "#график функции\n",
    "X=[a];Y=[func1(a,4)]\n",
    "for i in range(0,2000):\n",
    "    a=a+0.001\n",
    "    X.append(a)\n",
    "    Y.append(func1(a,2))\n",
    "#print(math.cos(2)**2)\n",
    "plt.plot(X,Y,'g')\n",
    "plt.xlabel(\"X\")\n",
    "plt.ylabel(\"Y\")\n",
    "plt.grid(True)\n",
    "plt.show()"
   ]
  },
  {
   "cell_type": "code",
   "execution_count": 21,
   "metadata": {
    "collapsed": false
   },
   "outputs": [],
   "source": [
    "#сравнение с numpy trapz\n",
    "import pylab\n",
    "MY=[]; St=[]; Ilist=[]; Dx=[]\n",
    "a=1;b=3; step=0.01\n",
    "for i in range(0,50):#кол-во посчитанных интегралов\n",
    "    MY.append(integral(1,3,0.001,func1,i))\n",
    "    Ilist.append(i)\n",
    "    x=a\n",
    "    X=[];Y=[]\n",
    "    for j in range(0,int((b-a)/step)+1):\n",
    "        X.append(x)\n",
    "        Y.append(func1(x,i))\n",
    "        x=x+step\n",
    "    z=numpy.trapz(Y,X)\n",
    "    St.append(z)\n",
    "    Dx.append(abs(St[i]-MY[i])/St[i])\n",
    "pylab.subplot(2,1,1)\n",
    "plt.plot(Ilist,MY, 'ro')\n",
    "plt.plot(Ilist,St, 'bo')\n",
    "plt.xlabel(\"X\")\n",
    "plt.ylabel(\"Y\")\n",
    "plt.grid(True)\n",
    "pylab.subplot(2,1,2)\n",
    "plt.plot(Ilist,Dx, 'go')\n",
    "plt.xlabel(\"N\")\n",
    "plt.ylabel(\"deltha y/y\")\n",
    "plt.grid(True)\n",
    "plt.show()\n",
    "#print(St)"
   ]
  },
  {
   "cell_type": "code",
   "execution_count": 2,
   "metadata": {
    "collapsed": false
   },
   "outputs": [
    {
     "name": "stdout",
     "output_type": "stream",
     "text": [
      "time1= 0.49920082092285156\n",
      "standart time= 0.32960081100463867\n",
      "my time= 0.0186002254486084\n"
     ]
    }
   ],
   "source": [
    "#решение 1000 уравнений методом прогонки\n",
    "import pylab\n",
    "from time import time\n",
    "n=100\n",
    "a=1;b=3\n",
    "A=numpy.zeros([n, n], \"f\")\n",
    "click=time()\n",
    "A[0][0]=1\n",
    "A[0][1]=-0.5\n",
    "def funcA(x):#для заполнения левой части матрицы\n",
    "    a=10+math.cos(x)\n",
    "    b=x**2+(math.cos(x))**2+1\n",
    "    c=a/b\n",
    "    return c\n",
    "for i in range(1,n-1):\n",
    "    A[i][i-1]=1\n",
    "    A[i][i]=funcA(i+1)\n",
    "    A[i][i+1]=1\n",
    "A[n-1][n-1]=1\n",
    "numpy.set_printoptions(precision=7, suppress=True, linewidth=250)\n",
    "F=numpy.zeros([n, 1], \"f\")\n",
    "F[0][0]=3\n",
    "for i in range(1,n-1):\n",
    "    F[i][0]=integral(a,b,0.001,func1,i)-10\n",
    "F[n-1][0]=1\n",
    "clack=time()\n",
    "print(\"time1=\",clack-click)\n",
    "start1=time()\n",
    "sol=numpy.linalg.solve(A,F)\n",
    "finish1=time()\n",
    "#print(sol,'r')\n",
    "print(\"standart time=\", finish1-start1)\n",
    "A1=numpy.zeros([n, n], \"f\")\n",
    "start2=time()\n",
    "A1[0][0]=A[0][0]\n",
    "A1[0][1]=A[0][1]\n",
    "for i in range(1,n-1):\n",
    "    A1[i][i+1]=A[i][i+1]\n",
    "    A1[i][i]=A[i][i]-(A[i-1][i]/A1[i-1][i-1])\n",
    "A1[n-1][n-1]=A[n-1][n-1]-((A[n-1][n-2]*A[n-2][n-1])/A1[n-2][n-2])\n",
    "F1=numpy.zeros([n, 1], \"f\")\n",
    "F1[0][0]=F[0][0]\n",
    "for i in range(1,n):\n",
    "    F1[i][0]=F[i][0]-((A[i][i-1]/A1[i-1][i-1])*F1[i-1][0])\n",
    "Xsol=[]\n",
    "Xsol.append(F1[n-1][0]/A1[n-1][n-1])\n",
    "N=[n-1]\n",
    "for i in range(n-1,0,-1):\n",
    "    Xsol.append((F1[i-1][0]-Xsol[n-1-i]*A[i-1][i])/A1[i-1][i-1])\n",
    "    N.append(i-1)\n",
    "finish2=time()\n",
    "print(\"my time=\", finish2-start2)\n",
    "#print(Xsol)\n",
    "pylab.subplot(2,1,1)\n",
    "plt.plot(N,Xsol, 'ro')\n",
    "plt.plot(sol, 'bo')\n",
    "plt.xlabel(\"X\")\n",
    "plt.ylabel(\"Y\")\n",
    "plt.grid(True)\n",
    "Deltha=[]\n",
    "for i in range(0,n):\n",
    "    Deltha.append(abs(Xsol[n-i-1]-sol[i][0]))\n",
    "#print(Deltha)\n",
    "pylab.subplot(2,1,2)\n",
    "plt.plot(N,Deltha, 'go')\n",
    "plt.xlabel(\"X\")\n",
    "plt.ylabel(\"Deltha\")\n",
    "plt.grid(True)\n",
    "plt.show()"
   ]
  },
  {
   "cell_type": "code",
   "execution_count": 23,
   "metadata": {
    "collapsed": false
   },
   "outputs": [
    {
     "name": "stdout",
     "output_type": "stream",
     "text": [
      "[[ 1.9059]\n",
      " [-2.1882]\n",
      " [-6.0747]\n",
      " ..., \n",
      " [-5.1786]\n",
      " [-0.8747]\n",
      " [ 1.    ]] r\n",
      "time= 61.28150510787964\n"
     ]
    }
   ],
   "source": [
    "#решение 10000 стандартное\n",
    "n=10000\n",
    "a=1;b=3\n",
    "A=numpy.zeros([n, n], \"f\")\n",
    "A[0][0]=1\n",
    "A[0][1]=-0.5\n",
    "for i in range(1,n-1):\n",
    "    A[i][i-1]=1\n",
    "    A[i][i]=funcA(i+1)\n",
    "    A[i][i+1]=1\n",
    "A[n-1][n-1]=1\n",
    "numpy.set_printoptions(precision=4, suppress=True, linewidth=250)\n",
    "#print(A)\n",
    "F1=numpy.zeros([n, 1], \"f\")\n",
    "F1[0][0]=3\n",
    "for i in range(1,n-1):\n",
    "    F1[i][0]=integral(a,b,0.001,func1,i)-10\n",
    "F1[n-1][0]=1\n",
    "start=time()\n",
    "sol1=numpy.linalg.solve(A,F1)\n",
    "finish=time()\n",
    "print(sol1,'r')\n",
    "print(\"time=\", finish-start)"
   ]
  },
  {
   "cell_type": "code",
   "execution_count": 24,
   "metadata": {
    "collapsed": false
   },
   "outputs": [
    {
     "name": "stdout",
     "output_type": "stream",
     "text": [
      "time= 0.16000914573669434\n"
     ]
    }
   ],
   "source": [
    "#решение 10000 уравнений методом прогонки\n",
    "n=10000\n",
    "a=1;b=3\n",
    "A=numpy.zeros([3, n], \"f\")\n",
    "#нулевая строка содержит -В, первая-С вторая-А\n",
    "A[1][0]=1\n",
    "A[0][0]=-0.5\n",
    "for i in range(1,n-1):\n",
    "    A[2][i-1]=1\n",
    "    A[2][i]=1\n",
    "    A[1][i]=funcA(i+1)\n",
    "    A[0][i]=1\n",
    "A[1][n-1]=1\n",
    "numpy.set_printoptions(precision=4, suppress=True, linewidth=250)\n",
    "#print(A)\n",
    "F=numpy.zeros([n, 1], \"f\")\n",
    "F[0][0]=3\n",
    "for i in range(1,n-1):\n",
    "    F[i][0]=integral(a,b,0.001,func1,i)-10\n",
    "F[n-1][0]=1\n",
    "#print(F)\n",
    "#преобр коэфф С\n",
    "start=time()\n",
    "for i in range(1,n):\n",
    "    A[1][i]=A[1][i]-((A[2][i])/A[1][i-1])*A[0][i-1]\n",
    "for i in range(1,n):\n",
    "    F[i][0]=F[i][0]-((A[2][i])/A[1][i-1])*F[i-1][0]\n",
    "Xsol=[]\n",
    "I=[n]\n",
    "Xsol.append(F[n-1][0]/A[1][n-1])\n",
    "for i in range(n-1,0, -1):\n",
    "    I.append(n)\n",
    "    Xsol.append((F[i-1][0]-Xsol[n-1-i]*A[0][i-1])/A[1][i-1])\n",
    "finish=time()\n",
    "print(\"time=\", finish-start)\n",
    "#print(Xsol)\n",
    "Deltha=[]\n",
    "for i in range(0,n):\n",
    "    Deltha.append(abs(Xsol[n-i-1]-sol1[i][0]))\n",
    "plt.plot(Deltha, 'ro')\n",
    "plt.xlabel(\"X\")\n",
    "plt.ylabel(\"Deltha\")\n",
    "plt.grid(True)\n",
    "plt.show()"
   ]
  },
  {
   "cell_type": "code",
   "execution_count": 3,
   "metadata": {
    "collapsed": false
   },
   "outputs": [
    {
     "name": "stdout",
     "output_type": "stream",
     "text": [
      "1\n",
      "[[ 1.94189]\n",
      " [-2.11619]\n",
      " [-1.33508]\n",
      " ..., \n",
      " [-0.56783]\n",
      " [-1.53686]\n",
      " [ 1.     ]]\n",
      "424.94005823135376\n"
     ]
    }
   ],
   "source": [
    "#метод итерации\n",
    "from time import time\n",
    "n=10000\n",
    "a=1;b=3;t=0\n",
    "eps=0.001\n",
    "def funcA2(x):#для заполнения левой части матрицы\n",
    "    a=10+math.cos(x)+3*x**2\n",
    "    b=x**2+(math.cos(x))**2+1\n",
    "    c=a/b\n",
    "    return c\n",
    "A=numpy.zeros([n, n], \"f\")\n",
    "tic=time()\n",
    "A[0][0]=1\n",
    "A[0][1]=-0.5\n",
    "for i in range(1,n-1):\n",
    "    A[i][i-1]=1\n",
    "    A[i][i]=funcA2(i+1)\n",
    "    A[i][i+1]=1\n",
    "A[n-1][n-1]=1\n",
    "numpy.set_printoptions(precision=5, suppress=True, linewidth=250)\n",
    "F=numpy.zeros([n, 1], \"f\")\n",
    "F[0][0]=3\n",
    "for i in range(1,n-1):\n",
    "    F[i][0]=integral(a,b,0.001,func1,i)-10\n",
    "F[n-1][0]=1\n",
    "#F=F1\n",
    "sol2=numpy.linalg.solve(A,F)\n",
    "#print(sol2,'R')\n",
    "#print(A)\n",
    "for i in range(0,n):\n",
    "    F[i][0]=F[i][0]/A[i][i]\n",
    "    for j in range(0,n):\n",
    "        if i!=j:\n",
    "            A[i][j]=-(A[i][j]/A[i][i])\n",
    "    A[i][i]=-1\n",
    "print(1)\n",
    "Ans=numpy.zeros([n, 1], \"f\")\n",
    "Ans=F\n",
    "Norm=[]; ITER=[]\n",
    "while True:\n",
    "    t=t+1\n",
    "    if t%1000==0:\n",
    "        print(t)\n",
    "    Z=numpy.dot(A,Ans)\n",
    "    Ans1=F+Ans+Z\n",
    "    ITER.append(t)\n",
    "    Norm.append(numpy.linalg.norm(Ans1))\n",
    "    if (numpy.linalg.norm(Ans1-Ans)/numpy.linalg.norm(Ans)>=eps):\n",
    "        Ans=Ans1\n",
    "    else:\n",
    "        break\n",
    "toc=time()\n",
    "print(Ans1)\n",
    "print(toc-tic)\n",
    "plt.plot(ITER,Norm, 'ro')\n",
    "plt.xlabel(\"N\")\n",
    "plt.ylabel(\"Norma\")\n",
    "plt.grid(True)\n",
    "plt.show()"
   ]
  },
  {
   "cell_type": "code",
   "execution_count": 26,
   "metadata": {
    "collapsed": false
   },
   "outputs": [],
   "source": [
    "Deltha2=[]\n",
    "for i in range(0,100):\n",
    "    Deltha2.append(abs((Ans1[i][0]-sol2[i][0])/sol2[i][0]))\n",
    "plt.plot(Deltha2, 'ro')\n",
    "plt.xlabel(\"X\")\n",
    "plt.ylabel(\"Deltha\")\n",
    "plt.grid(True)\n",
    "plt.show()"
   ]
  },
  {
   "cell_type": "code",
   "execution_count": 7,
   "metadata": {
    "collapsed": true
   },
   "outputs": [],
   "source": [
    "XG=[]#список для построения графика Х(i)\n",
    "for i in range(0,100):\n",
    "    XG.append(Ans1[i][0])\n",
    "plt.plot(XG, 'ro')\n",
    "plt.xlabel(\"i\")\n",
    "plt.ylabel(\"X(i)\")\n",
    "plt.grid(True)\n",
    "plt.show()"
   ]
  }
 ],
 "metadata": {
  "anaconda-cloud": {},
  "kernelspec": {
   "display_name": "Python [Root]",
   "language": "python",
   "name": "Python [Root]"
  },
  "language_info": {
   "codemirror_mode": {
    "name": "ipython",
    "version": 3
   },
   "file_extension": ".py",
   "mimetype": "text/x-python",
   "name": "python",
   "nbconvert_exporter": "python",
   "pygments_lexer": "ipython3",
   "version": "3.5.2"
  }
 },
 "nbformat": 4,
 "nbformat_minor": 0
}
